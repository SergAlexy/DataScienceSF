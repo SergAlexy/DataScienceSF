{
 cells [
  {
   cell_type code,
   execution_count null,
   metadata {},
   outputs [],
   source [
    import numpy as npn,
    n,
    #  функция для проверки алгоритма угадывания числаn,
    def score_game2(game_core)n,
        '''Запускаем игру 1000 раз, чтобы узнать, как быстро игра угадывает число'''n,
        count_ls = []n,
        np.random.seed(1)  # фиксируем RANDOM SEED, чтобы ваш эксперимент был воспроизводим!n,
        random_array = np.random.randint(1,101, size=(1000))n,
        for number in random_arrayn,
            count_ls.append(game_core(number))n,
        score = int(np.mean(count_ls))n,
        print(fВаш алгоритм угадывает число в среднем за {score} попыток)n,
        return(score)n,
    n,
    n,
    #  функция для угадыания числа из диапазона от  1 до 100n,
    def game_core_v4(number)n,
        '''Сначала устанавливаем число равным среднему целому значению из известного диапазона значений, n,
        затем на основе ответа больше или меньше корректируем границы значений и опять находим среднее целое значение,n,
        продолжаем пока не найдем загаданное число'''n,
        count = 1       # устанавливаем счетчик попыток равным 1n,
        min_limit = 1   # устанавливаем нижний предел диапазона n,
        max_limit = 100 # устанавливаем верхний предел диапазона n,
        predict = round((min_limit + max_limit)2) # находим первое значения для проверкиn,
        while number != predictn,
            count+=1n,
            if number  predict     # проверка что загаданное число больше текущего числа для проверкиn,
                min_limit = predict  # устанавливаем нижний придел равным текущему числу для проверкиn,
                predict = round((min_limit + max_limit)2) # находим новое число для проверкиn,
            elif number  predict   # проверка что загаданное число меньше текущего числа для проверкиn,
                max_limit = predict  # устанавливаем верхний придел равным текущему числу для проверкиn,
                '''делаем проверку что разница между загаданным числом и проверочным равна 1, n,
                чтобы избежать бесконечного цикла если загаданное число равно единице )'''n,
                if (max_limit-min_limit) == 1 n,
                    predict = min_limitn,
                elsen,
                    predict = round((min_limit + max_limit)2)n,
        return(count) # выход из цикла, если угадалиn,
    n,
    score_game2(game_core_v4)
   ]
  }
 ],
 metadata {
  kernelspec {
   display_name Python 3,
   language python,
   name python3
  },
  language_info {
   codemirror_mode {
    name ipython,
    version 3
   },
   file_extension .py,
   mimetype textx-python,
   name python,
   nbconvert_exporter python,
   pygments_lexer ipython3,
   version 3.7.4
  }
 },
 nbformat 4,
 nbformat_minor 2
}